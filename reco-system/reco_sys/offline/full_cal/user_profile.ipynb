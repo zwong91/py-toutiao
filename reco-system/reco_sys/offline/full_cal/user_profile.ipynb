{
 "cells": [
  {
   "cell_type": "code",
   "execution_count": 1,
   "metadata": {},
   "outputs": [],
   "source": [
    "import os\n",
    "import sys\n",
    "# 如果当前代码文件运行测试需要加入修改路径，避免出现后导包问题\n",
    "BASE_DIR = os.path.dirname(os.path.dirname(os.getcwd()))\n",
    "sys.path.insert(0, os.path.join(BASE_DIR))\n",
    "\n",
    "PYSPARK_PYTHON = \"/miniconda2/envs/reco_sys/bin/python\"\n",
    "# 当存在多个版本时，不指定很可能会导致出错\n",
    "os.environ[\"PYSPARK_PYTHON\"] = PYSPARK_PYTHON\n",
    "os.environ[\"PYSPARK_DRIVER_PYTHON\"] = PYSPARK_PYTHON\n",
    "\n",
    "from offline import SparkSessionBase\n",
    "import pyhdfs\n",
    "import time\n",
    "\n",
    "\n",
    "class UpdateUserProfile(SparkSessionBase):\n",
    "    \"\"\"离线相关处理程序\n",
    "    \"\"\"\n",
    "    SPARK_APP_NAME = \"updateUser\"\n",
    "    ENABLE_HIVE_SUPPORT = True\n",
    "\n",
    "    SPARK_EXECUTOR_MEMORY = \"7g\"\n",
    "\n",
    "    def __init__(self):\n",
    "\n",
    "        self.spark = self._create_spark_session()"
   ]
  },
  {
   "cell_type": "code",
   "execution_count": 2,
   "metadata": {},
   "outputs": [],
   "source": [
    "uup = UpdateUserProfile()"
   ]
  },
  {
   "cell_type": "code",
   "execution_count": 3,
   "metadata": {},
   "outputs": [
    {
     "data": {
      "text/plain": [
       "DataFrame[]"
      ]
     },
     "execution_count": 3,
     "metadata": {},
     "output_type": "execute_result"
    }
   ],
   "source": [
    "uup.spark.sql('use profile')"
   ]
  },
  {
   "cell_type": "code",
   "execution_count": 14,
   "metadata": {},
   "outputs": [],
   "source": [
    "# 读取日志数据，（关联历史日志数据和HIVE表分区）\n",
    "import pandas as pd\n",
    "from datetime import datetime\n",
    "\n",
    "def datelist(startdate, enddate):\n",
    "    date = [datetime.strftime(d, '%Y-%m-%d') for d in list(pd.date_range(start=startdate, end=enddate))]\n",
    "    return date\n",
    "\n",
    "dl = datelist('2019-03-05', time.strftime('%Y-%m-%d', time.localtime()))\n",
    "\n",
    "\n",
    "pydfs = pyhdfs.HdfsClient(hosts=\"hadoop-master:50070\")\n",
    "# 循环每个日期进行关联\n",
    "for d in dl:\n",
    "    \n",
    "    # 构造hadoop地址\n",
    "    _location = '/user/hive/warehouse/profile.db/user_action/' + d\n",
    "    try:\n",
    "        if pydfs.exists(_location):\n",
    "            uup.spark.sql(\"alter table user_action add partition (dt='%s') location '%s'\" % (d, _location))\n",
    "    except:\n",
    "        pass\n",
    "        \n",
    "    "
   ]
  },
  {
   "cell_type": "code",
   "execution_count": 16,
   "metadata": {},
   "outputs": [],
   "source": [
    "# 如果hadoop没有今天该日期文件，则没有日志数据，结束\n",
    "time_str = time.strftime(\"%Y-%m-%d\", time.localtime())\n",
    "_localions = '/user/hive/warehouse/profile.db/user_action/' + time_str\n",
    "if pydfs.exists(_localions):\n",
    "    # 如果有该文件直接关联，捕获关联重复异常\n",
    "    try:\n",
    "        uup.spark.sql(\"alter table user_action add partition (dt='%s') location '%s'\" % (time_str, _localions))\n",
    "    except Exception as e:\n",
    "        pass\n",
    "\n",
    "else:\n",
    "    pass"
   ]
  },
  {
   "cell_type": "code",
   "execution_count": 4,
   "metadata": {},
   "outputs": [],
   "source": [
    "sqlDF = uup.spark.sql(\n",
    "\"select actionTime, readTime, channelId, param.articleId, param.algorithmCombine, param.action, param.userId from user_action where dt>='2019-04-01'\")\n",
    "\n"
   ]
  },
  {
   "cell_type": "code",
   "execution_count": 5,
   "metadata": {},
   "outputs": [
    {
     "name": "stdout",
     "output_type": "stream",
     "text": [
      "+-------------------+--------+---------+--------------------+----------------+--------+-------------------+\n",
      "|         actionTime|readTime|channelId|           articleId|algorithmCombine|  action|             userId|\n",
      "+-------------------+--------+---------+--------------------+----------------+--------+-------------------+\n",
      "|2019-04-07 20:13:23|        |        0|[1112608068731928...|              C2|exposure|1114863735962337280|\n",
      "|2019-04-07 20:13:24|        |        0|[1112608068731928...|              C2|exposure|1114863741448486912|\n",
      "|2019-04-07 20:13:26|        |        0|[1112608068731928...|              C2|exposure|1114863748553637888|\n",
      "|2019-04-07 20:13:27|        |        0|[1112608068731928...|              C2|exposure|1114863751909081088|\n",
      "|2019-04-07 20:13:28|        |        0|[1112608068731928...|              C2|exposure|1114863759672737792|\n",
      "|2019-04-07 20:13:29|        |        7| 1112525856586072064|              C2|   click|1114863735962337280|\n",
      "|2019-04-07 20:13:30|        |        3| 1112608068731928576|              C2|   click|1114863751909081088|\n",
      "|2019-04-07 20:13:32|    1938|        7| 1112525856586072064|              C2|    read|1114863735962337280|\n",
      "|2019-04-07 20:13:33|    1711|        3| 1112608068731928576|              C2|    read|1114863751909081088|\n",
      "|2019-04-07 20:13:35|        |        7| 1112525856586072064|              C2|   click|1114863759672737792|\n",
      "|2019-04-07 20:13:37|        |        0|[14208, 17665, 13...|              C2|exposure|1114863751909081088|\n",
      "|2019-04-07 20:13:37|        |        0|[14208, 17665, 13...|              C2|exposure|1114863748553637888|\n",
      "|2019-04-07 20:13:38|        |        0|[14208, 17665, 13...|              C2|exposure|1114863735962337280|\n",
      "|2019-04-07 20:13:39|        |        0|[14208, 17665, 13...|              C2|exposure|1114863741448486912|\n",
      "|2019-04-07 20:13:39|        |       18|               14208|              C2|   click|1114863751909081088|\n",
      "|2019-04-07 20:13:42|    5583|        7| 1112525856586072064|              C2|    read|1114863759672737792|\n",
      "|2019-04-07 20:13:43|        |        0|[13570, 17665, 17...|              C2|exposure|1114863735962337280|\n",
      "|2019-04-07 20:13:45|    5306|       18|               14208|              C2|    read|1114863751909081088|\n",
      "|2019-04-07 20:13:49|        |       18|               14208|              C2|   click|1114863751909081088|\n",
      "|2019-04-07 20:13:49|        |        0|[1112608068731928...|              C2|exposure|1114863846486441984|\n",
      "+-------------------+--------+---------+--------------------+----------------+--------+-------------------+\n",
      "only showing top 20 rows\n",
      "\n"
     ]
    }
   ],
   "source": [
    "sqlDF.show()"
   ]
  },
  {
   "cell_type": "code",
   "execution_count": 11,
   "metadata": {},
   "outputs": [],
   "source": [
    "# [row.userId, row.actionTime, article_id, row.channelId, False, False, False, True, row.readTime]\n",
    "def _compute(row):\n",
    "    \n",
    "    _list = []\n",
    "    # 处理曝光日志行为\n",
    "    if row.action == \"exposure\":\n",
    "        # 处理其中的曝光推荐文章列表，编程一个用户对应一篇文章的数据\n",
    "        for article_id in eval(row.articleId):\n",
    "            # 返回多行结果\n",
    "            _list.append([row.userId, row.actionTime, article_id, row.channelId, False, False, False, True, row.readTime])\n",
    "    else:\n",
    "        class Temp(object):\n",
    "            shared = False\n",
    "            clicked = False\n",
    "            collected = False\n",
    "            read_time = \"\"\n",
    "        \n",
    "        _tp = Temp()\n",
    "        if row.action == \"click\":\n",
    "            _tp.clicked = True\n",
    "        elif row.action == \"read\":\n",
    "            _tp.clicked = True\n",
    "        elif row.action == \"share\":\n",
    "            _tp.shared = True\n",
    "        elif row.action == \"collect\":\n",
    "            _tp.collected = True\n",
    "        else:\n",
    "            pass\n",
    "        \n",
    "        _list.append([row.userId, row.actionTime, int(row.articleId), row.channelId, _tp.shared, _tp.clicked, _tp.collected, True, row.readTime]) \n",
    "    return _list\n",
    "    \n",
    "\n",
    "_res = sqlDF.rdd.flatMap(_compute)\n"
   ]
  },
  {
   "cell_type": "code",
   "execution_count": 12,
   "metadata": {},
   "outputs": [],
   "source": [
    "data = _res.toDF([\"user_id\", \"action_time\",\"article_id\", \"channel_id\", \"shared\", \"clicked\", \"collected\", \"exposure\", \"read_time\"])\n",
    "\n"
   ]
  },
  {
   "cell_type": "code",
   "execution_count": 13,
   "metadata": {},
   "outputs": [
    {
     "name": "stdout",
     "output_type": "stream",
     "text": [
      "+-------------------+-------------------+-------------------+----------+------+-------+---------+--------+---------+\n",
      "|            user_id|        action_time|         article_id|channel_id|shared|clicked|collected|exposure|read_time|\n",
      "+-------------------+-------------------+-------------------+----------+------+-------+---------+--------+---------+\n",
      "|1114863735962337280|2019-04-07 20:13:23|1112608068731928576|         0| false|  false|    false|    true|         |\n",
      "|1114863735962337280|2019-04-07 20:13:23|1112593242529988608|         0| false|  false|    false|    true|         |\n",
      "|1114863735962337280|2019-04-07 20:13:23|1112566345800613888|         0| false|  false|    false|    true|         |\n",
      "|1114863735962337280|2019-04-07 20:13:23|1112593324574769152|         0| false|  false|    false|    true|         |\n",
      "|1114863735962337280|2019-04-07 20:13:23|1112592065390182400|         0| false|  false|    false|    true|         |\n",
      "|1114863735962337280|2019-04-07 20:13:23|             141440|         0| false|  false|    false|    true|         |\n",
      "|1114863735962337280|2019-04-07 20:13:23|1112525856586072064|         0| false|  false|    false|    true|         |\n",
      "|1114863735962337280|2019-04-07 20:13:23|1109326351522856960|         0| false|  false|    false|    true|         |\n",
      "|1114863735962337280|2019-04-07 20:13:23|1108924834420621312|         0| false|  false|    false|    true|         |\n",
      "|1114863741448486912|2019-04-07 20:13:24|1112608068731928576|         0| false|  false|    false|    true|         |\n",
      "|1114863741448486912|2019-04-07 20:13:24|1112593242529988608|         0| false|  false|    false|    true|         |\n",
      "|1114863741448486912|2019-04-07 20:13:24|1112566345800613888|         0| false|  false|    false|    true|         |\n",
      "|1114863741448486912|2019-04-07 20:13:24|1112593324574769152|         0| false|  false|    false|    true|         |\n",
      "|1114863741448486912|2019-04-07 20:13:24|1112592065390182400|         0| false|  false|    false|    true|         |\n",
      "|1114863741448486912|2019-04-07 20:13:24|             141440|         0| false|  false|    false|    true|         |\n",
      "|1114863741448486912|2019-04-07 20:13:24|1112525856586072064|         0| false|  false|    false|    true|         |\n",
      "|1114863741448486912|2019-04-07 20:13:24|1109326351522856960|         0| false|  false|    false|    true|         |\n",
      "|1114863741448486912|2019-04-07 20:13:24|1108924834420621312|         0| false|  false|    false|    true|         |\n",
      "|1114863748553637888|2019-04-07 20:13:26|1112608068731928576|         0| false|  false|    false|    true|         |\n",
      "|1114863748553637888|2019-04-07 20:13:26|1112593242529988608|         0| false|  false|    false|    true|         |\n",
      "+-------------------+-------------------+-------------------+----------+------+-------+---------+--------+---------+\n",
      "only showing top 20 rows\n",
      "\n"
     ]
    }
   ],
   "source": [
    "data.show()"
   ]
  },
  {
   "cell_type": "code",
   "execution_count": 14,
   "metadata": {},
   "outputs": [],
   "source": [
    "# 将所有的某用户对于谋篇文章的操作合并到一行结果\n",
    "# 首先合并历史行为数据\n",
    "old = uup.spark.sql('select * from user_article_basic')\n",
    "new_data = old.unionAll(data)"
   ]
  },
  {
   "cell_type": "code",
   "execution_count": 15,
   "metadata": {},
   "outputs": [
    {
     "name": "stdout",
     "output_type": "stream",
     "text": [
      "+-------------------+-------------------+-------------------+----------+------+-------+---------+--------+---------+\n",
      "|            user_id|        action_time|         article_id|channel_id|shared|clicked|collected|exposure|read_time|\n",
      "+-------------------+-------------------+-------------------+----------+------+-------+---------+--------+---------+\n",
      "|1105045287866466304|2019-03-11 18:13:45|              14225|         0| false|  false|    false|    true|         |\n",
      "|1106476833370537984|2019-03-15 16:46:50|              14208|         0| false|  false|    false|    true|         |\n",
      "|1109980466942836736|2019-03-25 08:50:36|              19233|         0| false|  false|    false|    true|         |\n",
      "|1109980466942836736|2019-03-25 16:40:37|              44737|         0| false|  false|    false|    true|         |\n",
      "|1109993249109442560|2019-03-25 09:39:48|              17283|         0| false|  false|    false|    true|         |\n",
      "|1111189494544990208|2019-03-28 17:02:35|              19322|         0| false|  false|    false|    true|         |\n",
      "|1111524501104885760|2019-03-29 15:04:27|              44161|         0| false|  false|    false|    true|         |\n",
      "|1112727762809913344|2019-04-03 12:51:57|              18172|        18| false|   true|     true|    true|    19413|\n",
      "|1113020831425888256|2019-04-02 18:10:20|1112592065390182400|         0| false|  false|    false|    true|         |\n",
      "|1114863735962337280|2019-04-07 20:13:43|              17665|         0| false|  false|    false|    true|         |\n",
      "|1114863741448486912|2019-04-07 20:13:39|              14208|         0| false|  false|    false|    true|         |\n",
      "|1114863751909081088|2019-04-09 16:40:43|              13751|         0| false|  false|    false|    true|         |\n",
      "|1114863846486441984|2019-04-09 16:38:59|              17940|         0| false|  false|    false|    true|         |\n",
      "|1114863941936218112|2019-04-07 20:20:49|              15196|         0| false|  false|    false|    true|         |\n",
      "|1114863998437687296|2019-04-09 16:47:19|              19233|         0| false|  false|    false|    true|         |\n",
      "|1114864164158832640|2019-04-09 16:42:35|             141431|         0| false|  false|    false|    true|         |\n",
      "|1114864237131333632|2019-04-09 16:34:48|              13797|         0| false|  false|    false|    true|         |\n",
      "|1114864354622177280|2019-04-09 16:39:15|             134812|         0| false|  false|    false|    true|         |\n",
      "|1115089292662669312|2019-04-08 11:09:40|1112608068731928576|         0| false|  false|    false|    true|         |\n",
      "|1115534909935452160|2019-04-09 16:47:19|              18156|         0| false|  false|    false|    true|         |\n",
      "+-------------------+-------------------+-------------------+----------+------+-------+---------+--------+---------+\n",
      "only showing top 20 rows\n",
      "\n"
     ]
    }
   ],
   "source": [
    "new_data.show()"
   ]
  },
  {
   "cell_type": "code",
   "execution_count": null,
   "metadata": {},
   "outputs": [],
   "source": [
    "new_data.registerTempTable(\"temptable\")\n",
    "# 按照用户，文章分组存放进去\n",
    "uup.spark.sql(\n",
    "        \"insert overwrite table user_article_basic select user_id, max(action_time) as action_time, \"\n",
    "        \"article_id, max(channel_id) as channel_id, max(shared) as shared, max(clicked) as clicked, \"\n",
    "        \"max(collected) as collected, max(exposure) as exposure, max(read_time) as read_time from temptable \"\n",
    "        \"group by user_id, article_id\")"
   ]
  },
  {
   "cell_type": "code",
   "execution_count": 16,
   "metadata": {},
   "outputs": [],
   "source": [
    "# 1、读取user_article_basic表，合并行为表与文章画像中的主题词\n",
    "# 离线所有用户行为都进行分析\n",
    "uup.spark.sql(\"use profile\")\n",
    "# 对于日志当中的频道号，不是真正文章的对应频道，因为有0号频道存在\n",
    "user_article_basic = uup.spark.sql(\"select * from user_article_basic\").drop('channel_id')"
   ]
  },
  {
   "cell_type": "code",
   "execution_count": 18,
   "metadata": {},
   "outputs": [],
   "source": [
    "# 读取文章画像, 打到用户身上的都是主题词\n",
    "uup.spark.sql(\"use article\")\n",
    "article_profile = uup.spark.sql(\"select article_id, channel_id, topics from article_profile\")"
   ]
  },
  {
   "cell_type": "code",
   "execution_count": 19,
   "metadata": {},
   "outputs": [],
   "source": [
    "user_topics_list = user_article_basic.join(article_profile, how='left', on=['article_id'])"
   ]
  },
  {
   "cell_type": "code",
   "execution_count": 20,
   "metadata": {},
   "outputs": [
    {
     "name": "stdout",
     "output_type": "stream",
     "text": [
      "+----------+-------------------+-------------------+------+-------+---------+--------+---------+----------+--------------------+\n",
      "|article_id|            user_id|        action_time|shared|clicked|collected|exposure|read_time|channel_id|              topics|\n",
      "+----------+-------------------+-------------------+------+-------+---------+--------+---------+----------+--------------------+\n",
      "|     13401|                 10|2019-03-06 10:06:12| false|  false|    false|    true|         |        18|[补码, 字符串, 李白, typ...|\n",
      "|     13401|1114864237131333632|2019-04-09 16:39:51| false|  false|    false|    true|         |        18|[补码, 字符串, 李白, typ...|\n",
      "|     13401|1106396183141548032|2019-03-28 10:58:20| false|  false|    false|    true|         |        18|[补码, 字符串, 李白, typ...|\n",
      "|     13401|1109994594201763840|2019-03-26 15:03:58| false|  false|    false|    true|         |        18|[补码, 字符串, 李白, typ...|\n",
      "|     14805|1105045287866466304|2019-03-11 18:15:48| false|  false|    false|    true|         |        18|[占位符, Code, sep, ...|\n",
      "|     14805|1114865875103514624|2019-04-09 16:44:09| false|  false|    false|    true|         |        18|[占位符, Code, sep, ...|\n",
      "|     14805|                  1|2019-03-05 17:34:03| false|  false|    false|    true|         |        18|[占位符, Code, sep, ...|\n",
      "|     14805|1113004557979353088|2019-04-04 08:31:44| false|  false|    false|    true|         |        18|[占位符, Code, sep, ...|\n",
      "|     14805|1115534909935452160|2019-04-09 16:46:37| false|  false|    false|    true|         |        18|[占位符, Code, sep, ...|\n",
      "|     14805|1115089292662669312|2019-04-09 16:39:49| false|  false|    false|    true|         |        18|[占位符, Code, sep, ...|\n",
      "|     14805|1114864434305564672|2019-04-09 16:42:37| false|  false|    false|    true|         |        18|[占位符, Code, sep, ...|\n",
      "|     14805|1112715153402494976|2019-04-01 21:56:48| false|  false|    false|    true|         |        18|[占位符, Code, sep, ...|\n",
      "|     14805|1114863998437687296|2019-04-09 16:41:09| false|  false|    false|    true|         |        18|[占位符, Code, sep, ...|\n",
      "|     14805|1111524501104885760|2019-03-29 15:05:28| false|  false|    false|    true|         |        18|[占位符, Code, sep, ...|\n",
      "|     14805|1114864237131333632|2019-04-09 16:34:48| false|  false|    false|    true|         |        18|[占位符, Code, sep, ...|\n",
      "|     14805|1111189494544990208|2019-03-28 16:57:45| false|  false|    false|    true|         |        18|[占位符, Code, sep, ...|\n",
      "|     14805|1106476833370537984|2019-03-15 16:48:08| false|  false|    false|    true|         |        18|[占位符, Code, sep, ...|\n",
      "|     14805|1114864474352779264|2019-04-07 20:19:42| false|   true|    false|    true|    32360|        18|[占位符, Code, sep, ...|\n",
      "|     14805|1109995683777085440|2019-03-25 09:53:07| false|  false|    false|    true|         |        18|[占位符, Code, sep, ...|\n",
      "|     14805|1113053603926376448|2019-04-02 20:23:35| false|  false|    false|    true|         |        18|[占位符, Code, sep, ...|\n",
      "+----------+-------------------+-------------------+------+-------+---------+--------+---------+----------+--------------------+\n",
      "only showing top 20 rows\n",
      "\n"
     ]
    }
   ],
   "source": [
    "user_topics_list.show()"
   ]
  },
  {
   "cell_type": "code",
   "execution_count": 21,
   "metadata": {},
   "outputs": [],
   "source": [
    "# 对于主题词列表展开，方便计算每个用户的关键词的权重\n",
    "import pyspark.sql.functions as F\n",
    "user_single_topic = user_topics_list.withColumn('topic', F.explode('topics')).drop('topics')"
   ]
  },
  {
   "cell_type": "code",
   "execution_count": 22,
   "metadata": {},
   "outputs": [
    {
     "name": "stdout",
     "output_type": "stream",
     "text": [
      "+----------+-------------------+-------------------+------+-------+---------+--------+---------+----------+--------+\n",
      "|article_id|            user_id|        action_time|shared|clicked|collected|exposure|read_time|channel_id|   topic|\n",
      "+----------+-------------------+-------------------+------+-------+---------+--------+---------+----------+--------+\n",
      "|     13401|                 10|2019-03-06 10:06:12| false|  false|    false|    true|         |        18|      补码|\n",
      "|     13401|                 10|2019-03-06 10:06:12| false|  false|    false|    true|         |        18|     字符串|\n",
      "|     13401|                 10|2019-03-06 10:06:12| false|  false|    false|    true|         |        18|      李白|\n",
      "|     13401|                 10|2019-03-06 10:06:12| false|  false|    false|    true|         |        18|    type|\n",
      "|     13401|                 10|2019-03-06 10:06:12| false|  false|    false|    true|         |        18|      元素|\n",
      "|     13401|                 10|2019-03-06 10:06:12| false|  false|    false|    true|         |        18|    删除元素|\n",
      "|     13401|                 10|2019-03-06 10:06:12| false|  false|    false|    true|         |        18|      负数|\n",
      "|     13401|                 10|2019-03-06 10:06:12| false|  false|    false|    true|         |        18|      基数|\n",
      "|     13401|                 10|2019-03-06 10:06:12| false|  false|    false|    true|         |        18|     tp2|\n",
      "|     13401|                 10|2019-03-06 10:06:12| false|  false|    false|    true|         |        18|    数据类型|\n",
      "|     13401|                 10|2019-03-06 10:06:12| false|  false|    false|    true|         |        18|     二进制|\n",
      "|     13401|                 10|2019-03-06 10:06:12| false|  false|    false|    true|         |        18|xiaoming|\n",
      "|     13401|                 10|2019-03-06 10:06:12| false|  false|    false|    true|         |        18|      大写|\n",
      "|     13401|                 10|2019-03-06 10:06:12| false|  false|    false|    true|         |        18|      示例|\n",
      "|     13401|                 10|2019-03-06 10:06:12| false|  false|    false|    true|         |        18|      字典|\n",
      "|     13401|                 10|2019-03-06 10:06:12| false|  false|    false|    true|         |        18|     八进制|\n",
      "|     13401|                 10|2019-03-06 10:06:12| false|  false|    false|    true|         |        18|      元组|\n",
      "|     13401|                 10|2019-03-06 10:06:12| false|  false|    false|    true|         |        18|   print|\n",
      "|     13401|1114864237131333632|2019-04-09 16:39:51| false|  false|    false|    true|         |        18|      补码|\n",
      "|     13401|1114864237131333632|2019-04-09 16:39:51| false|  false|    false|    true|         |        18|     字符串|\n",
      "+----------+-------------------+-------------------+------+-------+---------+--------+---------+----------+--------+\n",
      "only showing top 20 rows\n",
      "\n"
     ]
    }
   ],
   "source": [
    "user_single_topic.show()"
   ]
  },
  {
   "cell_type": "code",
   "execution_count": 23,
   "metadata": {},
   "outputs": [],
   "source": [
    "def _save_weights(partition):\n",
    "    \"\"\"计算用户某个频道的某个词权重并落地\n",
    "    \"\"\"\n",
    "    weightsOfaction = {\n",
    "        \"read_min\": 1,\n",
    "        \"read_middle\": 2,\n",
    "        \"collect\": 2,\n",
    "        \"share\": 3,\n",
    "        \"click\": 5\n",
    "    }\n",
    "    \n",
    "    import happybase\n",
    "    from datetime import datetime\n",
    "    import numpy as np\n",
    "    \n",
    "    for row in partition:\n",
    "        # 计算时间衰减系数\n",
    "        t = datetime.now() - datetime.strptime(row.action_time, '%Y-%m-%d %H:%M:%S')\n",
    "        # 间隔，取出t.days\n",
    "        # 衰减系数公式\n",
    "        time_expr = 1 / (np.log(t.days + 1) + 1)\n",
    "\n",
    "        # 合并各种行为系数\n",
    "        if row.read_time == \"\":\n",
    "            read = 0\n",
    "        else:\n",
    "            read = int(row.read_time)\n",
    "\n",
    "        # 取出这个时间对应的行为类型权重\n",
    "        read_score = weightsOfaction['read_middle'] if read > 1000 else weightsOfaction['read_min']\n",
    "\n",
    "        # 计算该词的权重row.topic\n",
    "        weight = (read_score + row.collected * weightsOfaction['collect'] + row.shared * weightsOfaction['share'] + \n",
    "                 row.clicked * weightsOfaction['click']) * time_expr\n",
    "\n",
    "        # 将 用户的频道的关键词以及权重值写入到hbase当中\n",
    "    #     with pool.connection() as conn:\n",
    "    #         table = conn.table('user_profile')\n",
    "    #         table.put('user:{}'.format(row.user_id).encode(),\n",
    "    #                  {'partial:{}:{}'.format(row.channel_id, row.topic).encode(): json.dumps(\n",
    "    #                      weigths).encode()})\n",
    "    #         conn.close()\n",
    "    \n",
    "\n",
    "user_single_topic.foreachPartition(_save_weights)"
   ]
  },
  {
   "cell_type": "code",
   "execution_count": 24,
   "metadata": {},
   "outputs": [
    {
     "name": "stdout",
     "output_type": "stream",
     "text": [
      "{b'partial:13:\\xe4\\xba\\xba\\xe5\\xb7\\xa5\\xe6\\x99\\xba\\xe8\\x83\\xbd': b'1.6439270311265748', b'partial:13:\\xe4\\xba\\xba\\xe7\\xb1\\xbb': b'1.6439270311265748', b'partial:13:\\xe5\\x88\\x86\\xe6\\x94\\xaf': b'1.6439270311265748', b'partial:13:\\xe5\\xad\\xa6\\xe7\\xa7\\x91': b'1.6439270311265748', b'partial:13:\\xe5\\xb0\\x96\\xe7\\xab\\xaf\\xe6\\x8a\\x80\\xe6\\x9c\\xaf': b'1.6439270311265748', b'partial:13:\\xe6\\x95\\x99\\xe6\\x8e\\x88': b'1.6439270311265748', b'partial:13:\\xe6\\x99\\xba\\xe5\\x8a\\x9b': b'1.6439270311265748', b'partial:13:\\xe6\\x99\\xba\\xe8\\x83\\xbd': b'1.6439270311265748', b'partial:13:ldquo': b'1.6439270311265748', b'partial:18:\\xe4\\xb8\\x96\\xe7\\x95\\x8c': b'1.3531838779170973', b'partial:18:\\xe4\\xb8\\xaa\\xe6\\x95\\xb0': b'1.2796234278822656', b'partial:18:\\xe4\\xb8\\xad\\xe6\\x8b\\xac\\xe5\\x8f\\xb7': b'0.21107423703435377', b'partial:18:\\xe4\\xbb\\xa3\\xe6\\x8c\\x87': b'2.3761756624670785', b'partial:18:\\xe4\\xbb\\xa3\\xe7\\xa0\\x81\\xe8\\x87\\xaa\\xe5\\x8a\\xa8\\xe8\\xa1\\xa5\\xe5\\x85\\xa8': b'1.50099870681658', b'partial:18:\\xe4\\xbc\\x9a\\xe5\\x91\\x98': b'2.3761756624670785', b'partial:18:\\xe4\\xbe\\x8b\\xe5\\xad\\x90': b'1.5272108818552947', b'partial:18:\\xe4\\xbf\\x9d\\xe7\\x95\\x99\\xe4\\xb8\\xa4\\xe4\\xbd\\x8d\\xe5\\xb0\\x8f\\xe6\\x95\\xb0': b'1.61580552893079', b'partial:18:\\xe4\\xbf\\x9d\\xe7\\x95\\x99\\xe5\\xad\\x97': b'2.3761756624670785', b'partial:18:\\xe5\\x80\\x92\\xe6\\x95\\xb0': b'1.2664454222061226', b'partial:18:\\xe5\\x85\\x83\\xe7\\xb4\\xa0': b'1.3090378987331097', b'partial:18:\\xe5\\x85\\x83\\xe7\\xbb\\x84': b'1.4850732949319991', b'partial:18:\\xe5\\x85\\xb3\\xe9\\x94\\xae\\xe5\\xad\\x97': b'1.4928939991959764', b'partial:18:\\xe5\\x86\\x85\\xe5\\xad\\x98\\xe5\\x9c\\xb0\\xe5\\x9d\\x80': b'1.50099870681658', b'partial:18:\\xe5\\x86\\xb0\\xe7\\xae\\xb1': b'1.5787145242366136', b'partial:18:\\xe5\\x87\\xbd\\xe6\\x95\\xb0': b'1.3531838779170973', b'partial:18:\\xe5\\x88\\x87\\xe7\\x89\\x87': b'1.4850732949319991', b'partial:18:\\xe5\\x88\\x97\\xe8\\xa1\\xa8': b'1.4850732949319991', b'partial:18:\\xe5\\x8a\\xa0\\xe5\\x8f\\xb7': b'1.2664454222061226', b'partial:18:\\xe5\\x8c\\x85\\xe5\\xad\\x90': b'1.2664454222061226', b'partial:18:\\xe5\\x8c\\xbf\\xe5\\x90\\x8d\\xe5\\x87\\xbd\\xe6\\x95\\xb0': b'1.3531838779170973', b'partial:18:\\xe5\\x8d\\x83\\xe5\\x88\\x86\\xe4\\xbd\\x8d': b'1.61580552893079', b'partial:18:\\xe5\\x8d\\x8f\\xe7\\xa8\\x8b': b'1.4775196592404765', b'partial:18:\\xe5\\x8d\\xa0\\xe4\\xbd\\x8d\\xe7\\xac\\xa6': b'1.2664454222061226', b'partial:18:\\xe5\\x8d\\xa1\\xe4\\xb8\\x81\\xe8\\xbd\\xa6': b'1.286570320128497', b'partial:18:\\xe5\\x8e\\x9f\\xe4\\xbb\\xb7': b'0.21107423703435377', b'partial:18:\\xe5\\x8f\\x82\\xe6\\x95\\xb0': b'1.3531838779170973', b'partial:18:\\xe5\\x91\\xa8\\xe6\\xb6\\xa6\\xe5\\x8f\\x91': b'1.2664454222061226', b'partial:18:\\xe5\\x9c\\xb0\\xe7\\x90\\x86\\xe5\\x9d\\x90\\xe6\\xa0\\x87': b'1.61580552893079', b'partial:18:\\xe5\\x9f\\x8e\\xe7\\xae\\xa1': b'2.3761756624670785', b'partial:18:\\xe5\\xa4\\x9a\\xe6\\x80\\x81': b'1.3531838779170973', b'partial:18:\\xe5\\xa4\\x9a\\xe7\\xbb\\xa7\\xe6\\x89\\xbf': b'1.5787145242366136', b'partial:18:\\xe5\\xa4\\x9a\\xe8\\xbf\\x9b\\xe7\\xa8\\x8b': b'1.4775196592404765', b'partial:18:\\xe5\\xa4\\xa7\\xe5\\x86\\x99': b'2.3761756624670785', b'partial:18:\\xe5\\xa4\\xa7\\xe7\\x86\\x8a': b'1.4928939991959764', b'partial:18:\\xe5\\xa4\\xb4\\xe9\\x83\\xa8': b'0.22239482227710577', b'partial:18:\\xe5\\xad\\x90\\xe7\\xb1\\xbb': b'1.5787145242366136', b'partial:18:\\xe5\\xad\\x90\\xe7\\xba\\xbf\\xe7\\xa8\\x8b': b'1.2664454222061226', b'partial:18:\\xe5\\xad\\x90\\xe8\\xbf\\x9b\\xe7\\xa8\\x8b': b'1.4775196592404765', b'partial:18:\\xe5\\xad\\x97\\xe5\\x85\\xb8': b'1.5272108818552947', b'partial:18:\\xe5\\xad\\x97\\xe6\\xae\\xb5': b'0.21107423703435377', b'partial:18:\\xe5\\xad\\x97\\xe7\\xac\\xa6\\xe4\\xb8\\xb2': b'1.4850732949319991', b'partial:18:\\xe5\\xad\\x97\\xe8\\x8a\\x82': b'2.3761756624670785', b'partial:18:\\xe5\\xae\\x9e\\xe5\\x8f\\x82': b'1.3531838779170973', b'partial:18:\\xe5\\xaf\\x86\\xe7\\xa0\\x81': b'2.3761756624670785', b'partial:18:\\xe5\\xaf\\x86\\xe7\\xa0\\x81\\xe6\\x9c\\xac': b'2.3761756624670785', b'partial:18:\\xe5\\xaf\\xb9\\xe8\\xb1\\xa1': b'1.5567637559397405', b'partial:18:\\xe5\\xb0\\x86\\xe6\\x95\\xb0': b'1.2796234278822656', b'partial:18:\\xe5\\xb0\\x8f\\xe7\\x8c\\xaa': b'1.3531838779170973', b'partial:18:\\xe5\\xb0\\x8f\\xe7\\x94\\xb2\\xe9\\xb1\\xbc': b'1.3531838779170973', b'partial:18:\\xe5\\xb9\\xb4\\xe9\\xbe\\x84': b'1.3531838779170973', b'partial:18:\\xe5\\xbc\\x80\\xe5\\x8f\\x91\\xe7\\x8e\\xaf\\xe5\\xa2\\x83\\xe9\\x85\\x8d\\xe7\\xbd\\xae': b'1.50099870681658', b'partial:18:\\xe5\\xbc\\x95\\xe5\\x8f\\xb7': b'2.3761756624670785', b'partial:18:\\xe5\\xbd\\xa2\\xe5\\x8f\\x82': b'1.3531838779170973', b'partial:18:\\xe6\\x80\\xa7\\xe5\\x88\\xab': b'2.3761756624670785', b'partial:18:\\xe6\\x80\\xaa\\xe7\\x89\\xa9': b'1.286570320128497', b'partial:18:\\xe6\\x81\\x90\\xe6\\x80\\x96\\xe5\\x88\\x86\\xe5\\xad\\x90': b'1.61580552893079', b'partial:18:\\xe6\\x88\\x91\\xe5\\x86\\x9b': b'1.61580552893079', b'partial:18:\\xe6\\x88\\xb7\\xe8\\xbe\\x93': b'1.9235750816654706', b'partial:18:\\xe6\\x8a\\x80\\xe8\\x83\\xbd': b'1.5567637559397405', b'partial:18:\\xe6\\x8a\\xbd\\xe8\\xb1\\xa1\\xe7\\xb1\\xbb': b'1.5787145242366136', b'partial:18:\\xe6\\x8b\\xac\\xe5\\x8f\\xb7': b'1.2796234278822656', b'partial:18:\\xe6\\x8c\\x87\\xe5\\xae\\x9a\\xe4\\xbd\\x8d\\xe7\\xbd\\xae': b'0.21107423703435377', b'partial:18:\\xe6\\x8e\\xa5\\xe5\\x8f\\xa3\\xe7\\xb1\\xbb': b'1.5787145242366136', b'partial:18:\\xe6\\x95\\xb4\\xe6\\x95\\xb0': b'1.9235750816654706', b'partial:18:\\xe6\\x96\\x87\\xe6\\xa1\\xa3\\xe6\\xb3\\xa8\\xe9\\x87\\x8a': b'1.3531838779170973', b'partial:18:\\xe6\\x96\\xb0\\xe5\\xbc\\x8f': b'1.5787145242366136', b'partial:18:\\xe6\\x96\\xb9\\xe6\\xb3\\x95': b'0.21107423703435377', b'partial:18:\\xe6\\x97\\xb6\\xe9\\x97\\xb4\\xe7\\x89\\x87': b'1.5272108818552947', b'partial:18:\\xe6\\x98\\x9f\\xe5\\x8f\\xb7': b'1.3531838779170973', b'partial:18:\\xe6\\x9d\\xa1\\xe4\\xbb\\xb6': b'1.2664454222061226', b'partial:18:\\xe6\\x9d\\xa1\\xe4\\xbb\\xb6\\xe8\\xaf\\xad\\xe5\\x8f\\xa5': b'2.3761756624670785', b'partial:18:\\xe6\\x9e\\x90\\xe6\\x9e\\x84': b'1.3343689336626348', b'partial:18:\\xe6\\xa0\\xa1\\xe5\\x8c\\xba': b'1.5787145242366136', b'partial:18:\\xe6\\xa0\\xbc\\xe5\\xbc\\x8f\\xe5\\x8c\\x96': b'1.61580552893079', b'partial:18:\\xe6\\xa0\\xbc\\xe5\\xbc\\x8f\\xe5\\x8c\\x96\\xe8\\xbe\\x93\\xe5\\x87\\xba': b'2.3761756624670785', b'partial:18:\\xe6\\xad\\xa3\\xe6\\x96\\xb9\\xe4\\xbd\\x93': b'1.50099870681658', b'partial:18:\\xe6\\xad\\xa5\\xe9\\x95\\xbf': b'0.21107423703435377', b'partial:18:\\xe6\\xb2\\xb3\\xe5\\x8c\\x97': b'0.23934588700996243', b'partial:18:\\xe6\\xb4\\xbe\\xe7\\x94\\x9f\\xe7\\xb1\\xbb': b'0.21107423703435377', b'partial:18:\\xe6\\xb5\\x8e\\xe5\\x8d\\x97': b'0.23934588700996243', b'partial:18:\\xe6\\xb5\\xae\\xe7\\x82\\xb9\\xe6\\x95\\xb0': b'1.2796234278822656', b'partial:18:\\xe6\\xb6\\x88\\xe8\\xb4\\xb9\\xe8\\x80\\x85': b'1.2664454222061226', b'partial:18:\\xe6\\xb8\\xb8\\xe6\\x88\\x8f\\xe5\\x8e\\x85': b'1.9235750816654706', b'partial:18:\\xe7\\x81\\xab\\xe7\\xba\\xbf': b'1.286570320128497', b'partial:18:\\xe7\\x88\\xb6\\xe7\\xb1\\xbb': b'1.5787145242366136', b'partial:18:\\xe7\\x89\\xb9\\xe5\\xbe\\x81': b'1.5567637559397405', b'partial:18:\\xe7\\x8c\\x8e\\xe4\\xba\\xba': b'1.286570320128497', b'partial:18:\\xe7\\x8e\\x8b\\xe5\\x81\\xa5\\xe6\\x9e\\x97': b'1.286570320128497', b'partial:18:\\xe7\\x94\\x9f\\xe4\\xba\\xa7\\xe8\\x80\\x85': b'1.5272108818552947', b'partial:18:\\xe7\\x94\\xa8\\xe6\\x88\\xb7\\xe5\\x90\\x8d': b'2.3761756624670785', b'partial:18:\\xe7\\x94\\xa8\\xe6\\xb3\\x95': b'2.3761756624670785', b'partial:18:\\xe7\\x94\\xb5\\xe8\\xaf\\x9d': b'0.23934588700996243', b'partial:18:\\xe7\\x99\\xbb\\xe5\\xbd\\x95\\xe6\\xb3\\xa8\\xe5\\x86\\x8c': b'1.3090378987331097', b'partial:18:\\xe7\\x99\\xbd\\xe9\\x87\\x91': b'2.3761756624670785', b'partial:18:\\xe7\\x9f\\xb3\\xe5\\xae\\xb6\\xe5\\xba\\x84': b'0.23934588700996243', b'partial:18:\\xe7\\xa5\\x9d\\xe7\\xa6\\x8f': b'1.5787145242366136', b'partial:18:\\xe7\\xb4\\xa2\\xe5\\xbc\\x95': b'1.4850732949319991', b'partial:18:\\xe7\\xba\\xbf\\xe7\\xa8\\x8b': b'1.4775196592404765', b'partial:18:\\xe7\\xbb\\x8f\\xe5\\x85\\xb8': b'1.5272108818552947', b'partial:18:\\xe7\\xbb\\x93\\xe5\\xb0\\xbe': b'2.3761756624670785', b'partial:18:\\xe7\\xbc\\x96\\xe7\\xa0\\x81\\xe6\\x96\\xb9\\xe5\\xbc\\x8f': b'1.50099870681658', b'partial:18:\\xe7\\xbc\\x96\\xe7\\xa8\\x8b': b'1.3531838779170973', b'partial:18:\\xe8\\x8a\\xb1\\xe6\\xa4\\x92': b'2.3761756624670785', b'partial:18:\\xe8\\x8e\\xb7\\xe5\\x8f\\x96\\xe5\\x80\\xbc': b'1.5272108818552947', b'partial:18:\\xe8\\xa3\\x85\\xe9\\xa5\\xb0': b'1.50099870681658', b'partial:18:\\xe8\\xb5\\x8b\\xe5\\x80\\xbc\\xe8\\xbf\\x90\\xe7\\xae\\x97\\xe7\\xac\\xa6': b'2.3761756624670785', b'partial:18:\\xe8\\xb7\\xb3\\xe5\\x87\\xba\\xe5\\xbe\\xaa\\xe7\\x8e\\xaf': b'2.3761756624670785', b'partial:18:\\xe8\\xbf\\x90\\xe8\\xa1\\x8c\\xe6\\x97\\xb6\\xe9\\x97\\xb4': b'1.2664454222061226', b'partial:18:\\xe8\\xbf\\x94\\xe5\\x9b\\x9e\\xe5\\x80\\xbc': b'1.3090378987331097', b'partial:18:\\xe8\\xbf\\x9b\\xe7\\xa8\\x8b': b'1.4775196592404765', b'partial:18:\\xe8\\xbf\\x9b\\xe7\\xa8\\x8b\\xe6\\xb1\\xa0': b'1.4775196592404765', b'partial:18:\\xe9\\x93\\x82\\xe9\\x87\\x91': b'2.3761756624670785', b'partial:18:\\xe9\\x94\\x99\\xe8\\xaf\\xaf': b'2.3761756624670785', b'partial:18:\\xe9\\x98\\x9f\\xe5\\x88\\x97': b'1.4775196592404765', b'partial:18:\\xe9\\x9d\\x99\\xe6\\x80\\x81': b'0.22239482227710577', b'partial:18:\\xe9\\x9d\\xa2\\xe5\\x90\\x91\\xe5\\xaf\\xb9\\xe8\\xb1\\xa1': b'1.3531838779170973', b'partial:18:\\xe9\\x9d\\xa2\\xe5\\x90\\x91\\xe8\\xbf\\x87\\xe7\\xa8\\x8b': b'1.3531838779170973', b'partial:18:\\xe9\\xa2\\x98\\xe7\\x9b\\xae': b'1.2796234278822656', b'partial:18:\\xe9\\xa9\\xac\\xe4\\xba\\x91': b'1.286570320128497', b'partial:18:\\xe9\\xad\\x94\\xe6\\x96\\xb9': b'1.50099870681658', b'partial:18:\\xe9\\xb8\\xad\\xe5\\xad\\x90': b'0.22239482227710577', b'partial:18:\\xe9\\xbb\\x98\\xe8\\xae\\xa4\\xe5\\x8f\\x82\\xe6\\x95\\xb0': b'1.3531838779170973', b'partial:18:##': b'1.50099870681658', b'partial:18:####': b'1.5272108818552947', b'partial:18:&#': b'1.3531838779170973', b'partial:18:+++': b'1.2664454222061226', b'partial:18:+++++': b'1.2664454222061226', b'partial:18:.a': b'1.2796234278822656', b'partial:18:3g': b'1.2796234278822656', b'partial:18:ABCMeta': b'1.5787145242366136', b'partial:18:ASCII\\xe7\\xa0\\x81': b'0.22239482227710577', b'partial:18:Ali': b'0.22239482227710577', b'partial:18:Alice': b'0.22239482227710577', b'partial:18:Animal': b'1.5787145242366136', b'partial:18:BBQ': b'1.2664454222061226', b'partial:18:BMI': b'0.21107423703435377', b'partial:18:Bar': b'1.3531838779170973', b'partial:18:Bob': b'0.22239482227710577', b'partial:18:Chinese': b'1.5272108818552947', b'partial:18:Code': b'1.2664454222061226', b'partial:18:DNF': b'1.286570320128497', b'partial:18:False': b'2.3761756624670785', b'partial:18:Foo': b'1.3531838779170973', b'partial:18:GBK': b'1.2796234278822656', b'partial:18:Initialized': b'1.3531838779170973', b'partial:18:Item': b'1.3531838779170973', b'partial:18:Mooc': b'1.5787145242366136', b'partial:18:MyType': b'1.5272108818552947', b'partial:18:OPERATOR': b'1.2796234278822656', b'partial:18:Oldboy': b'1.5567637559397405', b'partial:18:ParentClass1': b'1.5787145242366136', b'partial:18:Payment': b'0.22239482227710577', b'partial:18:People': b'1.3531838779170973', b'partial:18:Person': b'1.5272108818552947', b'partial:18:Pig': b'1.3531838779170973', b'partial:18:Process': b'1.4775196592404765', b'partial:18:Pycharm': b'1.50099870681658', b'partial:18:Python': b'2.3761756624670785', b'partial:18:Python\\xe8\\x84\\x9a\\xe6\\x9c\\xac': b'1.50099870681658', b'partial:18:Python2': b'2.3761756624670785', b'partial:18:Python3': b'2.3761756624670785', b'partial:18:Queue': b'0.21107423703435377', b'partial:18:Robot': b'1.3531838779170973', b'partial:18:Room': b'1.5787145242366136', b'partial:18:SOCK': b'1.5272108818552947', b'partial:18:School': b'1.5787145242366136', b'partial:18:SchoolMember': b'1.3531838779170973', b'partial:18:Son': b'0.22239482227710577', b'partial:18:Student': b'1.5567637559397405', b'partial:18:TOM': b'1.4928939991959764', b'partial:18:Temp': b'1.2796234278822656', b'partial:18:Thread': b'1.2664454222061226', b'partial:18:True': b'2.3761756624670785', b'partial:18:ValueError': b'1.3531838779170973', b'partial:18:Vera': b'1.50099870681658', b'partial:18:View': b'1.2664454222061226', b'partial:18:Wechat': b'0.22239482227710577', b'partial:18:__': b'1.4775196592404765', b'partial:18:__&#': b'1.3343689336626348', b'partial:18:____': b'1.3343689336626348', b'partial:18:aa3': b'1.3343689336626348', b'partial:18:abc': b'1.5787145242366136', b'partial:18:abc12': b'0.21107423703435377', b'partial:18:abs': b'1.2796234278822656', b'partial:18:addr': b'1.4928939991959764', b'partial:18:address': b'0.23934588700996243', b'partial:18:age': b'1.3531838779170973', b'partial:18:aim': b'1.2796234278822656', b'partial:18:alex': b'1.2664454222061226', b'partial:18:alexsel': b'2.3761756624670785', b'partial:18:apple': b'1.3531838779170973', b'partial:18:args': b'1.4928939991959764', b'partial:18:ascii': b'0.22239482227710577', b'partial:18:asdf': b'1.5272108818552947', b'partial:18:atm': b'1.3531838779170973', b'partial:18:banana': b'1.3531838779170973', b'partial:18:bar': b'0.22239482227710577', b'partial:18:bin': b'2.3761756624670785', b'partial:18:bmi': b'0.21107423703435377', b'partial:18:bool': b'1.9235750816654706', b'partial:18:bracket': b'1.2796234278822656', b'partial:18:break': b'2.3761756624670785', b'partial:18:builtins': b'0.22239482227710577', b'partial:18:bx1': b'1.5787145242366136', b'partial:18:cal': b'1.2664454222061226', b'partial:18:calc': b'1.5272108818552947', b'partial:18:carrot': b'1.3531838779170973', b'partial:18:casefold': b'1.2664454222061226', b'partial:18:cdt': b'1.2664454222061226', b'partial:18:chi': b'1.5787145242366136', b'partial:18:choice': b'1.5272108818552947', b'partial:18:choose': b'1.5567637559397405', b'partial:18:chose': b'1.2796234278822656', b'partial:18:chr': b'0.23934588700996243', b'partial:18:class': b'1.3531838779170973', b'partial:18:clear': b'1.2796234278822656', b'partial:18:client': b'1.5272108818552947', b'partial:18:close': b'1.3090378987331097', b'partial:18:cls': b'0.21107423703435377', b'partial:18:cmds': b'1.5272108818552947', b'partial:18:coding': b'2.3761756624670785', b'partial:18:complex': b'1.50099870681658', b'partial:18:con': b'1.4775196592404765', b'partial:18:conn': b'1.5272108818552947', b'partial:18:conn1': b'0.21107423703435377', b'partial:18:consume': b'1.5272108818552947', b'partial:18:content': b'1.9235750816654706', b'partial:18:converted': b'1.61580552893079', b'partial:18:count': b'2.3761756624670785', b'partial:18:country': b'1.3531838779170973', b'partial:18:courses': b'1.3531838779170973', b'partial:18:cquire': b'1.2664454222061226', b'partial:18:createNode': b'1.50099870681658', b'partial:18:data': b'1.4775196592404765', b'partial:18:db1': b'1.5567637559397405', b'partial:18:def': b'1.4775196592404765', b'partial:18:del': b'1.4850732949319991', b'partial:18:delitem': b'1.3343689336626348', b'partial:18:dic': b'1.5272108818552947', b'partial:18:dic1': b'1.5272108818552947', b'partial:18:dict': b'1.5567637559397405', b'partial:18:dir': b'0.22239482227710577', b'partial:18:divisible': b'1.3531838779170973', b'partial:18:dizhi': b'0.23934588700996243', b'partial:18:dollar': b'1.3531838779170973', b'partial:18:duoduo': b'1.61580552893079', b'partial:18:eat': b'1.5787145242366136', b'partial:18:elif': b'1.2796234278822656', b'partial:18:encode': b'1.3090378987331097', b'partial:18:encoding': b'1.3090378987331097', b'partial:18:endswith': b'1.5272108818552947', b'partial:18:enumerate': b'1.5272108818552947', b'partial:18:env': b'2.3761756624670785', b'partial:18:eval': b'1.2796234278822656', b'partial:18:eve': b'1.2664454222061226', b'partial:18:exec1': b'1.5567637559397405', b'partial:18:extend': b'1.3090378987331097', b'partial:18:extra': b'1.3531838779170973', b'partial:18:eye': b'1.50099870681658', b'partial:18:figurea': b'1.2796234278822656', b'partial:18:filter': b'1.2796234278822656', b'partial:18:flag': b'2.3761756624670785', b'partial:18:float': b'0.22239482227710577', b'partial:18:foo': b'0.21107423703435377', b'partial:18:foo1': b'1.2664454222061226', b'partial:18:format': b'1.5272108818552947', b'partial:18:func': b'1.5787145242366136', b'partial:18:func1': b'0.22239482227710577', b'partial:18:gbk': b'1.50099870681658', b'partial:18:gender': b'1.5567637559397405', b'partial:18:geo': b'1.50099870681658', b'partial:18:getitem': b'1.3343689336626348', b'partial:18:getpid': b'1.4775196592404765', b'partial:18:gevent': b'1.4775196592404765', b'partial:18:greenlet': b'1.4775196592404765', b'partial:18:hash': b'1.5787145242366136', b'partial:18:hehe': b'1.4850732949319991', b'partial:18:hobby': b'1.4928939991959764', b'partial:18:home': b'1.50099870681658', b'partial:18:hou': b'1.50099870681658', b'partial:18:houdini': b'1.50099870681658', b'partial:18:import': b'1.4775196592404765', b'partial:18:index': b'1.5272108818552947', b'partial:18:info': b'0.23934588700996243', b'partial:18:info1': b'1.2664454222061226', b'partial:18:info2': b'1.2664454222061226', b'partial:18:init': b'0.22239482227710577', b'partial:18:inp': b'2.3761756624670785', b'partial:18:input': b'1.5272108818552947', b'partial:18:insert': b'0.21107423703435377', b'partial:18:int': b'1.2796234278822656', b'partial:18:introduce': b'1.4928939991959764', b'partial:18:isalnum': b'1.2664454222061226', b'partial:18:isalpha': b'1.2664454222061226', b'partial:18:isinstance': b'1.3531838779170973', b'partial:18:isupper': b'2.3761756624670785', b'partial:18:item': b'1.5272108818552947', b'partial:18:join': b'1.4775196592404765', b'partial:18:js1': b'1.5787145242366136', b'partial:18:key': b'1.3343689336626348', b'partial:18:keys': b'1.5272108818552947', b'partial:18:kk2': b'1.5272108818552947', b'partial:18:kwargs': b'1.4928939991959764', b'partial:18:lambda': b'1.2796234278822656', b'partial:18:len': b'2.3761756624670785', b'partial:18:list': b'1.2796234278822656', b'partial:18:lock1': b'1.2664454222061226', b'partial:18:lock2': b'1.2664454222061226', b'partial:18:logging': b'1.5272108818552947', b'partial:18:lower': b'2.3761756624670785', b'partial:18:lst': b'1.5787145242366136', b'partial:18:lstrip': b'2.3761756624670785', b'partial:18:luffycity': b'1.5272108818552947', b'partial:18:male': b'1.5272108818552947', b'partial:18:mango': b'1.3531838779170973', b'partial:18:map': b'1.2796234278822656', b'partial:18:mar': b'1.4775196592404765', b'partial:18:matchObj': b'1.2796234278822656', b'partial:18:metaclass': b'1.5787145242366136', b'partial:18:mid': b'1.2796234278822656', b'partial:18:mingzi': b'1.3531838779170973', b'partial:18:mode': b'1.3090378987331097', b'partial:18:money': b'1.5787145242366136', b'partial:18:monkey': b'1.4775196592404765', b'partial:18:mouse': b'1.50099870681658', b'partial:18:movie': b'1.5272108818552947', b'partial:18:mro': b'1.5272108818552947', b'partial:18:msg': b'2.3761756624670785', b'partial:18:mylist': b'1.3531838779170973', b'partial:18:nub': b'1.2796234278822656', b'partial:18:num': b'1.2796234278822656', b'partial:18:obj': b'1.3531838779170973', b'partial:18:obj1': b'1.5567637559397405', b'partial:18:obj3': b'1.3531838779170973', b'partial:18:object': b'1.5272108818552947', b'partial:18:open': b'1.3090378987331097', b'partial:18:ord': b'0.23934588700996243', b'partial:18:pa': b'0.22239482227710577', b'partial:18:peiqi': b'1.3531838779170973', b'partial:18:people': b'1.5272108818552947', b'partial:18:period': b'1.5787145242366136', b'partial:18:phone': b'0.23934588700996243', b'partial:18:pid': b'1.4775196592404765', b'partial:18:poem': b'1.3531838779170973', b'partial:18:pool': b'1.4775196592404765', b'partial:18:pop': b'1.3090378987331097', b'partial:18:portfolio': b'1.2796234278822656', b'partial:18:ppend': b'1.2796234278822656', b'partial:18:prd': b'1.2664454222061226', b'partial:18:price': b'0.21107423703435377', b'partial:18:print': b'1.4775196592404765', b'partial:18:pro': b'1.4775196592404765', b'partial:18:produce': b'1.5272108818552947', b'partial:18:producer': b'1.4775196592404765', b'partial:18:property': b'1.3531838779170973', b'partial:18:put': b'1.4775196592404765', b'partial:18:pycharm': b'1.50099870681658', b'partial:18:python': b'1.2664454222061226', b'partial:18:python2': b'1.5272108818552947', b'partial:18:raise': b'1.3531838779170973', b'partial:18:rams': b'1.3531838779170973', b'partial:18:randint': b'1.2796234278822656', b'partial:18:range': b'1.2796234278822656', b'partial:18:rea': b'1.3531838779170973', b'partial:18:read': b'1.3090378987331097', b'partial:18:recv': b'1.5272108818552947', b'partial:18:remove': b'0.21107423703435377', b'partial:18:replace': b'2.3761756624670785', b'partial:18:request': b'1.50099870681658', b'partial:18:res': b'1.5272108818552947', b'partial:18:ress': b'1.2664454222061226', b'partial:18:ret': b'1.2664454222061226', b'partial:18:reverse': b'1.3090378987331097', b'partial:18:role': b'0.21107423703435377', b'partial:18:rstrip': b'2.3761756624670785', b'partial:18:s10': b'1.4850732949319991', b'partial:18:s11': b'1.2664454222061226', b'partial:18:salary': b'1.5567637559397405', b'partial:18:saySomething': b'1.3531838779170973', b'partial:18:school': b'1.5567637559397405', b'partial:18:seek': b'1.3090378987331097', b'partial:18:send': b'1.5272108818552947', b'partial:18:sep': b'1.2664454222061226', b'partial:18:set': b'1.50099870681658', b'partial:18:setitem': b'1.3343689336626348', b'partial:18:sex': b'1.3531838779170973', b'partial:18:shang': b'1.5272108818552947', b'partial:18:shares': b'1.2796234278822656', b'partial:18:sheng': b'1.3531838779170973', b'partial:18:shoplist': b'1.3531838779170973', b'partial:18:show': b'0.21107423703435377', b'partial:18:sit': b'1.2796234278822656', b'partial:18:sleep': b'0.21107423703435377', b'partial:18:socket': b'1.5272108818552947', b'partial:18:son': b'0.21107423703435377', b'partial:18:sorted': b'0.21107423703435377', b'partial:18:speak': b'1.3531838779170973', b'partial:18:sswd': b'1.50099870681658', b'partial:18:start': b'1.2664454222061226', b'partial:18:startswith': b'1.4850732949319991', b'partial:18:staticmethod': b'0.21107423703435377', b'partial:18:stop': b'1.2664454222061226', b'partial:18:str': b'1.2664454222061226', b'partial:18:strip': b'2.3761756624670785', b'partial:18:student': b'1.4928939991959764', b'partial:18:sum': b'1.9235750816654706', b'partial:18:super': b'1.5787145242366136', b'partial:18:taibai': b'1.2664454222061226', b'partial:18:talk': b'1.5272108818552947', b'partial:18:target': b'1.5272108818552947', b'partial:18:targetPath': b'1.2796234278822656', b'partial:18:temp': b'1.2796234278822656', b'partial:18:tesla': b'1.3090378987331097', b'partial:18:test': b'1.3531838779170973', b'partial:18:test03': b'1.5272108818552947', b'partial:18:test1': b'2.3761756624670785', b'partial:18:test2': b'2.3761756624670785', b'partial:18:test4': b'2.3761756624670785', b'partial:18:test5': b'2.3761756624670785', b'partial:18:test6': b'2.3761756624670785', b'partial:18:threading': b'1.4775196592404765', b'partial:18:time': b'1.4775196592404765', b'partial:18:tipliers': b'1.2796234278822656', b'partial:18:tiprocess': b'1.5272108818552947', b'partial:18:tiprocessing': b'1.4775196592404765', b'partial:18:unicode': b'1.50099870681658', b'partial:18:update': b'1.5272108818552947', b'partial:18:upper': b'2.3761756624670785', b'partial:18:user': b'2.3761756624670785', b'partial:18:utf': b'1.50099870681658', b'partial:18:vv1': b'1.5272108818552947', b'partial:18:vv2': b'1.5272108818552947', b'partial:18:while\\xe5\\xbe\\xaa\\xe7\\x8e\\xaf': b'2.3761756624670785', b'partial:18:women': b'1.4850732949319991', b'partial:18:words': b'1.3531838779170973', b'partial:18:write': b'1.3090378987331097', b'partial:18:wuqi': b'1.3531838779170973', b'partial:18:wusir': b'1.4850732949319991', b'partial:18:xa5': b'0.22239482227710577', b'partial:18:xbd': b'0.22239482227710577', b'partial:18:year': b'1.5272108818552947', b'partial:18:years': b'1.4928939991959764', b'partial:18:zfill': b'1.61580552893079', b'partial:18:zhao': b'1.3531838779170973', b'partial:18:zoo': b'1.3531838779170973', b'partial:7:\\xe6\\x95\\xb0\\xe6\\x8d\\xae\\xe5\\xba\\x93': b'0.23484671873236782'}\n"
     ]
    }
   ],
   "source": [
    "import happybase\n",
    "#  用于读取hbase缓存结果配置\n",
    "pool = happybase.ConnectionPool(size=10, host='192.168.19.137', port=9090)\n",
    "\n",
    "with pool.connection() as conn:\n",
    "    table = conn.table('user_profile')\n",
    "    # 获取每个键 对应的所有列的结果\n",
    "    data = table.row(b'user:2', columns=[b'partial'])\n",
    "    print(data)\n",
    "    conn.close()"
   ]
  },
  {
   "cell_type": "code",
   "execution_count": null,
   "metadata": {},
   "outputs": [],
   "source": []
  }
 ],
 "metadata": {
  "kernelspec": {
   "display_name": "Python 3",
   "language": "python",
   "name": "python3"
  },
  "language_info": {
   "codemirror_mode": {
    "name": "ipython",
    "version": 3
   },
   "file_extension": ".py",
   "mimetype": "text/x-python",
   "name": "python",
   "nbconvert_exporter": "python",
   "pygments_lexer": "ipython3",
   "version": "3.6.7"
  }
 },
 "nbformat": 4,
 "nbformat_minor": 2
}
