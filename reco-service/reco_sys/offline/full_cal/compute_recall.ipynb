{
 "cells": [
  {
   "cell_type": "code",
   "execution_count": 1,
   "metadata": {},
   "outputs": [],
   "source": [
    "import os\n",
    "import sys\n",
    "# 如果当前代码文件运行测试需要加入修改路径，避免出现后导包问题\n",
    "BASE_DIR = os.path.dirname(os.path.dirname(os.getcwd()))\n",
    "sys.path.insert(0, os.path.join(BASE_DIR))\n",
    "\n",
    "PYSPARK_PYTHON = \"/miniconda2/envs/reco_sys/bin/python\"\n",
    "# 当存在多个版本时，不指定很可能会导致出错\n",
    "os.environ[\"PYSPARK_PYTHON\"] = PYSPARK_PYTHON\n",
    "os.environ[\"PYSPARK_DRIVER_PYTHON\"] = PYSPARK_PYTHON\n",
    "\n",
    "from offline import SparkSessionBase\n",
    "\n",
    "class UpdateRecall(SparkSessionBase):\n",
    "\n",
    "    SPARK_APP_NAME = \"updateRecall\"\n",
    "    ENABLE_HIVE_SUPPORT = True\n",
    "\n",
    "    def __init__(self):\n",
    "        self.spark = self._create_spark_session()\n",
    "\n",
    "ur = UpdateRecall()"
   ]
  },
  {
   "cell_type": "code",
   "execution_count": 2,
   "metadata": {},
   "outputs": [],
   "source": [
    "# 读取数据库，进行类型转换\n",
    "ur.spark.sql(\"use profile\")\n",
    "user_article_basic = ur.spark.sql(\"select * from user_article_basic\").select(['user_id', 'article_id', 'clicked'])"
   ]
  },
  {
   "cell_type": "code",
   "execution_count": 3,
   "metadata": {},
   "outputs": [
    {
     "name": "stdout",
     "output_type": "stream",
     "text": [
      "+-------------------+-------------------+-------+\n",
      "|            user_id|         article_id|clicked|\n",
      "+-------------------+-------------------+-------+\n",
      "|1105045287866466304|              14225|  false|\n",
      "|1106476833370537984|              14208|  false|\n",
      "|1109980466942836736|              19233|  false|\n",
      "|1109980466942836736|              44737|  false|\n",
      "|1109993249109442560|              17283|  false|\n",
      "|1111189494544990208|              19322|  false|\n",
      "|1111524501104885760|              44161|  false|\n",
      "|1112727762809913344|              18172|   true|\n",
      "|1113020831425888256|1112592065390182400|  false|\n",
      "|1114863735962337280|              17665|  false|\n",
      "|1114863741448486912|              14208|  false|\n",
      "|1114863751909081088|              13751|  false|\n",
      "|1114863846486441984|              17940|  false|\n",
      "|1114863941936218112|              15196|  false|\n",
      "|1114863998437687296|              19233|  false|\n",
      "|1114864164158832640|             141431|  false|\n",
      "|1114864237131333632|              13797|  false|\n",
      "|1114864354622177280|             134812|  false|\n",
      "|1115089292662669312|1112608068731928576|  false|\n",
      "|1115534909935452160|              18156|  false|\n",
      "+-------------------+-------------------+-------+\n",
      "only showing top 20 rows\n",
      "\n"
     ]
    }
   ],
   "source": [
    "user_article_basic.show()"
   ]
  },
  {
   "cell_type": "code",
   "execution_count": 4,
   "metadata": {},
   "outputs": [],
   "source": [
    "# 需要对clicked进行类型转换\n",
    "def boolen_to_int(row):\n",
    "    return row.user_id, row.article_id, int(row.clicked)\n",
    "    \n",
    "    \n",
    "user_article_basic = user_article_basic.rdd.map(boolen_to_int).toDF(['user_id', 'article_id', 'clicked'])"
   ]
  },
  {
   "cell_type": "code",
   "execution_count": 5,
   "metadata": {},
   "outputs": [
    {
     "data": {
      "text/plain": [
       "DataFrame[user_id: bigint, article_id: bigint, clicked: bigint]"
      ]
     },
     "execution_count": 5,
     "metadata": {},
     "output_type": "execute_result"
    }
   ],
   "source": [
    "user_article_basic"
   ]
  },
  {
   "cell_type": "code",
   "execution_count": 7,
   "metadata": {},
   "outputs": [],
   "source": [
    "# 转换user_id和article_id形式\n",
    "from pyspark.ml.feature import StringIndexer\n",
    "from pyspark.ml import Pipeline\n",
    "\n",
    "userindexer = StringIndexer(inputCol='user_id', outputCol='als_user_id')\n",
    "articleindexer = StringIndexer(inputCol='article_id', outputCol='als_article_id')\n",
    "pip = Pipeline(stages=[userindexer, articleindexer])\n",
    "pip_model = pip.fit(user_article_basic)\n",
    "user_article_ = pip_model.transform(user_article_basic)"
   ]
  },
  {
   "cell_type": "code",
   "execution_count": 8,
   "metadata": {},
   "outputs": [],
   "source": [
    "from pyspark.ml.recommendation import ALS\n",
    "als = ALS(userCol='als_user_id', itemCol='als_article_id', ratingCol='clicked')\n",
    "model = als.fit(user_article_)\n",
    "res = model.recommendForAllUsers(100)"
   ]
  },
  {
   "cell_type": "code",
   "execution_count": 9,
   "metadata": {},
   "outputs": [
    {
     "name": "stdout",
     "output_type": "stream",
     "text": [
      "+-----------+--------------------+\n",
      "|als_user_id|     recommendations|\n",
      "+-----------+--------------------+\n",
      "|         31|[[255,0.1802026],...|\n",
      "|         65|[[0,0.0], [10,0.0...|\n",
      "|         53|[[0,0.0], [10,0.0...|\n",
      "|         34|[[255,0.06407572]...|\n",
      "|         28|[[255,0.010229035...|\n",
      "|         26|[[255,0.093366005...|\n",
      "|         27|[[255,0.18162085]...|\n",
      "|         44|[[255,0.19217382]...|\n",
      "|         12|[[255,0.4196051],...|\n",
      "|         22|[[255,0.14635552]...|\n",
      "|         47|[[255,0.18675834]...|\n",
      "|          1|[[255,0.22854869]...|\n",
      "|         52|[[255,0.24745138]...|\n",
      "|         13|[[207,0.14864287]...|\n",
      "|          6|[[255,0.26363456]...|\n",
      "|         16|[[255,0.240065], ...|\n",
      "|          3|[[207,0.9093479],...|\n",
      "|         20|[[255,0.21114598]...|\n",
      "|         40|[[336,0.060219713...|\n",
      "|         57|[[255,0.18626273]...|\n",
      "+-----------+--------------------+\n",
      "only showing top 20 rows\n",
      "\n"
     ]
    }
   ],
   "source": [
    "res.show()"
   ]
  },
  {
   "cell_type": "code",
   "execution_count": 10,
   "metadata": {},
   "outputs": [],
   "source": [
    "# 解析推荐结果中的用户ID index到原来的用户ID，文章IDindex 到原始文章ID\n",
    "user_alsuser = user_article_.groupBy(['user_id']).max('als_user_id').withColumnRenamed('max(als_user_id)', 'als_user_id')\n",
    "article_als_article = user_article_.groupBy(['article_id']).max('als_article_id').withColumnRenamed('max(als_article_id)', 'als_article_id')\n",
    "\n",
    "\n",
    "\n",
    "\n"
   ]
  },
  {
   "cell_type": "code",
   "execution_count": 11,
   "metadata": {},
   "outputs": [
    {
     "name": "stdout",
     "output_type": "stream",
     "text": [
      "+-------------------+-----------+\n",
      "|            user_id|als_user_id|\n",
      "+-------------------+-----------+\n",
      "|1106473203766657024|       26.0|\n",
      "|1113049054452908032|       44.0|\n",
      "|1114863751909081088|       37.0|\n",
      "|1115534909935452160|       42.0|\n",
      "|1113100263847100416|       54.0|\n",
      "|1103195673450250240|        5.0|\n",
      "|1105045287866466304|       28.0|\n",
      "|1114864237131333632|        4.0|\n",
      "|1111524501104885760|       49.0|\n",
      "|1109995264376045568|       19.0|\n",
      "|1105105185656537088|       46.0|\n",
      "|1110071654421102592|       64.0|\n",
      "|1114863965080387584|       65.0|\n",
      "|1114864128259784704|       17.0|\n",
      "|1114864233264185344|       40.0|\n",
      "|1115436666438287360|       29.0|\n",
      "|1114863846486441984|        2.0|\n",
      "|1115089292662669312|       13.0|\n",
      "|1113316420155867136|       72.0|\n",
      "|1114863902073552896|       16.0|\n",
      "+-------------------+-----------+\n",
      "only showing top 20 rows\n",
      "\n"
     ]
    }
   ],
   "source": [
    "user_alsuser.show()"
   ]
  },
  {
   "cell_type": "code",
   "execution_count": 12,
   "metadata": {},
   "outputs": [],
   "source": [
    "res = res.join(user_alsuser, on=['als_user_id'], how='left')"
   ]
  },
  {
   "cell_type": "code",
   "execution_count": 13,
   "metadata": {},
   "outputs": [
    {
     "name": "stdout",
     "output_type": "stream",
     "text": [
      "+-----------+--------------------+-------------------+\n",
      "|als_user_id|     recommendations|            user_id|\n",
      "+-----------+--------------------+-------------------+\n",
      "|          8|[[263,0.35747305]...|1109976363453906944|\n",
      "|         67|[[207,0.48211247]...|1114096769035141120|\n",
      "|         70|[[255,0.38544005]...|1115534898262704128|\n",
      "|          0|[[255,0.5872822],...|1106396183141548032|\n",
      "|         69|[[0,0.0], [10,0.0...|1114094806092480512|\n",
      "|          7|[[255,0.17604727]...|1111189494544990208|\n",
      "|         49|[[0,0.0], [10,0.0...|1111524501104885760|\n",
      "|         29|[[255,0.10245587]...|1115436666438287360|\n",
      "|         64|[[255,0.09147509]...|1110071654421102592|\n",
      "|         47|[[255,0.18675834]...|1112995431274512384|\n",
      "|         42|[[255,0.24499115]...|1115534909935452160|\n",
      "|         44|[[255,0.19217382]...|1113049054452908032|\n",
      "|         35|[[255,0.6367457],...|                  4|\n",
      "|         62|[[207,0.09850311]...|1114863741448486912|\n",
      "|         18|[[255,0.19392662]...|1114864164158832640|\n",
      "|          1|[[255,0.22854869]...|1114864874141253632|\n",
      "|         39|[[255,0.22129914]...|1115534631668547584|\n",
      "|         34|[[255,0.06407572]...|1108264901190615040|\n",
      "|         37|[[255,0.5177417],...|1114863751909081088|\n",
      "|         25|[[255,0.3687786],...|1114865014205841408|\n",
      "+-----------+--------------------+-------------------+\n",
      "only showing top 20 rows\n",
      "\n"
     ]
    }
   ],
   "source": [
    "res.show()"
   ]
  },
  {
   "cell_type": "code",
   "execution_count": 14,
   "metadata": {},
   "outputs": [],
   "source": [
    "import pyspark.sql.functions as F\n",
    "\n",
    "res = res.withColumn('recommendation', F.explode('recommendations')).drop('recommendations').drop('als_user_id')"
   ]
  },
  {
   "cell_type": "code",
   "execution_count": 15,
   "metadata": {},
   "outputs": [
    {
     "name": "stdout",
     "output_type": "stream",
     "text": [
      "+-------------------+-----------------+\n",
      "|            user_id|   recommendation|\n",
      "+-------------------+-----------------+\n",
      "|1109976363453906944| [263,0.35747305]|\n",
      "|1109976363453906944| [181,0.21230958]|\n",
      "|1109976363453906944| [207,0.14445771]|\n",
      "|1109976363453906944|  [224,0.1438985]|\n",
      "|1109976363453906944|  [336,0.1406238]|\n",
      "|1109976363453906944| [185,0.08199209]|\n",
      "|1109976363453906944| [210,0.07963402]|\n",
      "|1109976363453906944| [23,0.077265725]|\n",
      "|1109976363453906944| [204,0.07539557]|\n",
      "|1109976363453906944| [184,0.07539557]|\n",
      "|1109976363453906944|[287,0.074107625]|\n",
      "|1109976363453906944|[275,0.074107625]|\n",
      "|1109976363453906944|[305,0.074107625]|\n",
      "|1109976363453906944|[335,0.074107625]|\n",
      "|1109976363453906944|[246,0.074107625]|\n",
      "|1109976363453906944|[280,0.074107625]|\n",
      "|1109976363453906944|[269,0.074107625]|\n",
      "|1109976363453906944|[267,0.074107625]|\n",
      "|1109976363453906944|[342,0.074107625]|\n",
      "|1109976363453906944|[341,0.074107625]|\n",
      "+-------------------+-----------------+\n",
      "only showing top 20 rows\n",
      "\n"
     ]
    }
   ],
   "source": [
    "res.show()"
   ]
  },
  {
   "cell_type": "code",
   "execution_count": 16,
   "metadata": {},
   "outputs": [],
   "source": [
    "# 取出article_id去进行方向解析原来的ID\n",
    "def get_als_article_id(row):\n",
    "    return row.user_id, row.recommendation[0]\n",
    "res = res.rdd.map(get_als_article_id).toDF(['user_id', 'als_article_id'])"
   ]
  },
  {
   "cell_type": "code",
   "execution_count": 17,
   "metadata": {},
   "outputs": [
    {
     "name": "stdout",
     "output_type": "stream",
     "text": [
      "+-------------------+--------------+\n",
      "|            user_id|als_article_id|\n",
      "+-------------------+--------------+\n",
      "|1109976363453906944|           263|\n",
      "|1109976363453906944|           181|\n",
      "|1109976363453906944|           207|\n",
      "|1109976363453906944|           224|\n",
      "|1109976363453906944|           336|\n",
      "|1109976363453906944|           185|\n",
      "|1109976363453906944|           210|\n",
      "|1109976363453906944|            23|\n",
      "|1109976363453906944|           204|\n",
      "|1109976363453906944|           184|\n",
      "|1109976363453906944|           287|\n",
      "|1109976363453906944|           275|\n",
      "|1109976363453906944|           305|\n",
      "|1109976363453906944|           335|\n",
      "|1109976363453906944|           246|\n",
      "|1109976363453906944|           280|\n",
      "|1109976363453906944|           269|\n",
      "|1109976363453906944|           267|\n",
      "|1109976363453906944|           342|\n",
      "|1109976363453906944|           341|\n",
      "+-------------------+--------------+\n",
      "only showing top 20 rows\n",
      "\n"
     ]
    }
   ],
   "source": [
    "res.show()"
   ]
  },
  {
   "cell_type": "code",
   "execution_count": 18,
   "metadata": {},
   "outputs": [],
   "source": [
    "res = res.join(article_als_article, on=['als_article_id'], how='left')"
   ]
  },
  {
   "cell_type": "code",
   "execution_count": 19,
   "metadata": {},
   "outputs": [
    {
     "name": "stdout",
     "output_type": "stream",
     "text": [
      "+--------------+-------------------+----------+\n",
      "|als_article_id|            user_id|article_id|\n",
      "+--------------+-------------------+----------+\n",
      "|           299|1109976363453906944|     13890|\n",
      "|           299|1114096769035141120|     13890|\n",
      "|           299|1115534898262704128|     13890|\n",
      "|           299|1106396183141548032|     13890|\n",
      "|           299|1115534909935452160|     13890|\n",
      "|           299|                  4|     13890|\n",
      "|           299|1114863741448486912|     13890|\n",
      "|           299|1114864874141253632|     13890|\n",
      "|           299|1115534631668547584|     13890|\n",
      "|           299|1113053603926376448|     13890|\n",
      "|           299|1115504747848138752|     13890|\n",
      "|           299|                 23|     13890|\n",
      "|           299|1105093883106164736|     13890|\n",
      "|           299|1114863991156375552|     13890|\n",
      "|           299|1114864434305564672|     13890|\n",
      "|           299|1109980466942836736|     13890|\n",
      "|           299|                 38|     13890|\n",
      "|           299|1114863846486441984|     13890|\n",
      "|           299|1115535317173010432|     13890|\n",
      "|           299|                 10|     13890|\n",
      "+--------------+-------------------+----------+\n",
      "only showing top 20 rows\n",
      "\n"
     ]
    }
   ],
   "source": [
    "res.show()"
   ]
  },
  {
   "cell_type": "code",
   "execution_count": 20,
   "metadata": {},
   "outputs": [],
   "source": [
    "ur.spark.sql(\"use toutiao\")\n",
    "news_article_basic = ur.spark.sql(\"select article_id, channel_id from news_article_basic\")"
   ]
  },
  {
   "cell_type": "code",
   "execution_count": 21,
   "metadata": {},
   "outputs": [],
   "source": [
    "res = res.join(news_article_basic, on=['article_id'], how='left')"
   ]
  },
  {
   "cell_type": "code",
   "execution_count": 22,
   "metadata": {},
   "outputs": [
    {
     "name": "stdout",
     "output_type": "stream",
     "text": [
      "+----------+--------------+-------------------+----------+\n",
      "|article_id|als_article_id|            user_id|channel_id|\n",
      "+----------+--------------+-------------------+----------+\n",
      "|     13890|           299|1106396183141548032|        18|\n",
      "|     13890|           299|1111189494544990208|        18|\n",
      "|     13890|           299|1115436666438287360|        18|\n",
      "|     13890|           299|1110071654421102592|        18|\n",
      "|     13890|           299|1112995431274512384|        18|\n",
      "|     13890|           299|1113049054452908032|        18|\n",
      "|     13890|           299|1114864164158832640|        18|\n",
      "|     13890|           299|1108264901190615040|        18|\n",
      "|     13890|           299|1114863751909081088|        18|\n",
      "|     13890|           299|1114865014205841408|        18|\n",
      "|     13890|           299|1114867217272406016|        18|\n",
      "|     13890|           299|1114864237131333632|        18|\n",
      "|     13890|           299|1112715153402494976|        18|\n",
      "|     13890|           299|1112727762809913344|        18|\n",
      "|     13890|           299|1113020831425888256|        18|\n",
      "|     13890|           299|1109994594201763840|        18|\n",
      "|     13890|           299|1109979805106831360|        18|\n",
      "|     13890|           299|1106476833370537984|        18|\n",
      "|     13890|           299|1113244157343694848|        18|\n",
      "|     13890|           299|1109993249109442560|        18|\n",
      "+----------+--------------+-------------------+----------+\n",
      "only showing top 20 rows\n",
      "\n"
     ]
    }
   ],
   "source": [
    "res.show()"
   ]
  },
  {
   "cell_type": "code",
   "execution_count": 23,
   "metadata": {},
   "outputs": [
    {
     "name": "stdout",
     "output_type": "stream",
     "text": [
      "+-------------------+----------+--------------------+\n",
      "|            user_id|channel_id|        article_list|\n",
      "+-------------------+----------+--------------------+\n",
      "|1110071654421102592|        18|[13890, 14915, 18...|\n",
      "|1111524501104885760|         5|            [141440]|\n",
      "|1114863941936218112|         7|            [141437]|\n",
      "|1113244157343694848|         7|            [141437]|\n",
      "|1112995431274512384|         5|            [141440]|\n",
      "|1114864874141253632|        18|[13890, 14915, 18...|\n",
      "|                 33|        13|            [141431]|\n",
      "|1114864434305564672|        13|            [141431]|\n",
      "|1108264901190615040|         7|            [141437]|\n",
      "|1106473203766657024|      null|[1112592065390182...|\n",
      "|1106396183141548032|         7|            [141437]|\n",
      "|1105093883106164736|         5|            [141440]|\n",
      "|1115629498121846784|        18|[13890, 14915, 18...|\n",
      "|1103195673450250240|         5|            [141440]|\n",
      "|1114863735962337280|        13|            [141431]|\n",
      "|1114864237131333632|        13|            [141431]|\n",
      "|1115534898262704128|         7|            [141437]|\n",
      "|1113049054452908032|         5|            [141440]|\n",
      "|1108264901190615040|        18|[13890, 14915, 18...|\n",
      "|                  5|        13|            [141431]|\n",
      "+-------------------+----------+--------------------+\n",
      "only showing top 20 rows\n",
      "\n"
     ]
    }
   ],
   "source": [
    "# 得到每篇文章的channel_id\n",
    "# 按照用户和channel_id分组\n",
    "res = res.groupBy(['user_id', 'channel_id']).agg(F.collect_list('article_id')).withColumnRenamed('collect_list(article_id)', 'article_list')\n",
    "res.show()\n",
    "\n"
   ]
  },
  {
   "cell_type": "code",
   "execution_count": 24,
   "metadata": {},
   "outputs": [],
   "source": [
    "res = res.dropna()"
   ]
  },
  {
   "cell_type": "code",
   "execution_count": 32,
   "metadata": {},
   "outputs": [],
   "source": [
    "def save_offline_recall_hbase(partition):\n",
    "    \"\"\"保存用户模型召回的结果\n",
    "    \"\"\"\n",
    "    import happybase\n",
    "    pool = happybase.ConnectionPool(size=10, host='hadoop-master', port=9090)\n",
    "    for row in partition:\n",
    "        with pool.connection() as conn:\n",
    "            # 读取历史召回结果\n",
    "            history_recall = conn.table('history_recall')\n",
    "            data = history_recall.cells('reco:his:{}'.format(row.user_id).encode(),\n",
    "                                        'channel:{}'.format(row.channel_id).encode())\n",
    "            # 进行过滤\n",
    "            history_list = []\n",
    "            if len(data) >=2:\n",
    "                for l in data[:-1]:\n",
    "                    history_list.extend(l)\n",
    "            else:\n",
    "                history_list = []\n",
    "            \n",
    "            reco_set = list(set(row.article_list) - set(history_list))\n",
    "            \n",
    "            # 存储到召回结果表，一份到历史召回表\n",
    "            if reco_set:\n",
    "                cb_recall = conn.table('cb_recall')\n",
    "                cb_recall.put('recall:user:{}'.format(row.user_id).encode(), \n",
    "                              {'als:{}'.format(row.channel_id).encode(): str(reco_set).encode()})\n",
    "                # 历史表中也需要插入一份\n",
    "                history_recall.put(\"reco:his:{}\".format(row.user_id).encode(),\n",
    "                                   {'channel:{}'.format(row.channel_id): str(reco_set).encode()})\n",
    "            conn.close()\n",
    "    \n",
    "res.foreachPartition(save_offline_recall_hbase)"
   ]
  },
  {
   "cell_type": "code",
   "execution_count": 25,
   "metadata": {},
   "outputs": [],
   "source": [
    "# 基于内容召回的结果推荐\n",
    "# 过滤点击过的文章\n",
    "ur.spark.sql(\"use profile\")\n",
    "user_article_basic = ur.spark.sql(\"select * from user_article_basic\").filter('clicked=True')"
   ]
  },
  {
   "cell_type": "code",
   "execution_count": 27,
   "metadata": {},
   "outputs": [
    {
     "name": "stdout",
     "output_type": "stream",
     "text": [
      "+-------------------+-------------------+-------------------+----------+------+-------+---------+--------+---------+\n",
      "|            user_id|        action_time|         article_id|channel_id|shared|clicked|collected|exposure|read_time|\n",
      "+-------------------+-------------------+-------------------+----------+------+-------+---------+--------+---------+\n",
      "|1112727762809913344|2019-04-03 12:51:57|              18172|        18| false|   true|     true|    true|    19413|\n",
      "|                  1|2019-03-07 16:57:34|              44386|        18| false|   true|    false|    true|    17850|\n",
      "|1109976363453906944|2019-03-25 11:52:31|              13728|        18| false|   true|    false|    true|    14218|\n",
      "|1114864354622177280|2019-04-09 16:39:22|              17304|        18| false|   true|    false|    true|         |\n",
      "|                 23|2019-04-03 08:10:23|              44739|        18| false|   true|    false|    true|     7013|\n",
      "|                  1|2019-03-17 10:32:01|              17632|        18| false|   true|    false|    true|     1014|\n",
      "|1114863748553637888|2019-04-09 16:41:08|             141437|         7| false|   true|    false|    true|     2066|\n",
      "|1109994594201763840|2019-04-06 23:56:56|              15140|        18| false|   true|    false|    true|     1433|\n",
      "|1112715153402494976|2019-04-01 22:01:14|              17542|        18| false|   true|    false|    true|    20092|\n",
      "|1114863751909081088|2019-04-09 16:40:43|              15139|        18| false|   true|    false|    true|         |\n",
      "|                  2|2019-03-05 10:19:54|              44371|        18| false|   true|    false|    true|      938|\n",
      "|                 23|2019-04-02 15:06:37|1112593242529988608|         3| false|   true|    false|    true|     3366|\n",
      "|                  4|2019-04-04 14:28:19|1112525856586072064|         7| false|   true|     true|    true|    54151|\n",
      "|1114863751909081088|2019-04-07 20:13:33|1112608068731928576|         3| false|   true|    false|    true|     1711|\n",
      "|1114863941936218112|2019-04-07 20:24:40|              18795|        18| false|   true|    false|    true|    57949|\n",
      "|1114864354622177280|2019-04-09 16:41:05|              18156|        18| false|   true|    false|    true|     6901|\n",
      "|1114865014205841408|2019-04-09 16:42:47|             141437|         7| false|   true|    false|    true|     5091|\n",
      "|                  2|2019-03-07 10:06:20|              18103|        18| false|   true|    false|    true|      648|\n",
      "|                  1|2019-03-22 00:52:31|              18335|        18| false|   true|    false|    true|    19983|\n",
      "|                  1|2019-03-23 11:31:24|1108924834420621312|        18| false|   true|    false|    true|     3131|\n",
      "+-------------------+-------------------+-------------------+----------+------+-------+---------+--------+---------+\n",
      "only showing top 20 rows\n",
      "\n"
     ]
    }
   ],
   "source": [
    "user_article_basic.show()"
   ]
  },
  {
   "cell_type": "code",
   "execution_count": 35,
   "metadata": {},
   "outputs": [],
   "source": [
    "def save_clicked_similar_article_recall(partition):\n",
    "    \"\"\"保存用户点击过的文章的相似文章到召回表中\n",
    "    \"\"\"\n",
    "    import happybase\n",
    "    pool = happybase.ConnectionPool(size=10, host='hadoop-master')\n",
    "\n",
    "    # 进行为相似文章获取\n",
    "    with pool.connection() as conn:\n",
    "\n",
    "        # key:   article_id,    column:  similar:article_id\n",
    "        similar_table = conn.table('article_similar')\n",
    "        # 循环partition\n",
    "        for row in partition:\n",
    "            # 获取相似文章结果表\n",
    "            similar_article = similar_table.row(str(row.article_id).encode(),\n",
    "                                                columns=[b'similar'])\n",
    "            # 相似文章相似度排序过滤，召回不需要太大的数据， 百个，千\n",
    "            _srt = sorted(similar_article.items(), key=lambda item: item[1], reverse=True)\n",
    "            if _srt:\n",
    "                # 每次行为推荐10篇文章\n",
    "                reco_article = [int(i[0].split(b':')[1]) for i in _srt][:10]\n",
    "\n",
    "                # 获取历史看过的该频道文章\n",
    "                history_table = conn.table('history_recall')\n",
    "                # 多个版本\n",
    "                data = history_table.cells('reco:his:{}'.format(row.user_id).encode(),\n",
    "                                           'channel:{}'.format(row.channel_id).encode())\n",
    "\n",
    "                history = []\n",
    "                if len(data) >= 2:\n",
    "                    for l in data[:-1]:\n",
    "                        history.extend(eval(l))\n",
    "                else:\n",
    "                    history = []\n",
    "\n",
    "                # 过滤reco_article与history\n",
    "                reco_res = list(set(reco_article) - set(history))\n",
    "\n",
    "                # 进行推荐，放入基于内容的召回表当中以及历史看过的文章表当中\n",
    "                if reco_res:\n",
    "                    # content_table = conn.table('cb_content_recall')\n",
    "                    content_table = conn.table('cb_recall')\n",
    "                    content_table.put(\"recall:user:{}\".format(row.user_id).encode(),\n",
    "                                      {'content:{}'.format(row.channel_id).encode(): str(reco_res).encode()})\n",
    "\n",
    "                    # 放入历史推荐过文章\n",
    "                    history_table.put(\"reco:his:{}\".format(row.user_id).encode(),\n",
    "                                      {'channel:{}'.format(row.channel_id).encode(): str(reco_res).encode()})\n",
    "\n",
    "        conn.close()\n",
    "\n",
    "user_article_basic.foreachPartition(save_clicked_similar_article_recall)"
   ]
  },
  {
   "cell_type": "code",
   "execution_count": null,
   "metadata": {},
   "outputs": [],
   "source": []
  }
 ],
 "metadata": {
  "kernelspec": {
   "display_name": "Python 3",
   "language": "python",
   "name": "python3"
  },
  "language_info": {
   "codemirror_mode": {
    "name": "ipython",
    "version": 3
   },
   "file_extension": ".py",
   "mimetype": "text/x-python",
   "name": "python",
   "nbconvert_exporter": "python",
   "pygments_lexer": "ipython3",
   "version": "3.6.7"
  }
 },
 "nbformat": 4,
 "nbformat_minor": 2
}
